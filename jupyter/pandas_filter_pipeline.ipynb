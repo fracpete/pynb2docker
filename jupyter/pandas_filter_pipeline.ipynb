{
 "cells": [
  {
   "cell_type": "markdown",
   "metadata": {},
   "source": [
    "Our dependencies:"
   ]
  },
  {
   "cell_type": "code",
   "execution_count": 31,
   "metadata": {},
   "outputs": [
    {
     "name": "stdout",
     "output_type": "stream",
     "text": [
      "Collecting pandas\n",
      "  Downloading pandas-1.0.1-cp37-cp37m-manylinux1_x86_64.whl (10.1 MB)\n",
      "\u001b[K     |████████████████████████████████| 10.1 MB 8.0 MB/s eta 0:00:01\n",
      "\u001b[?25hRequirement already satisfied: python-dateutil>=2.6.1 in /home/fracpete/development/projects/fracpete/pynb2docker/venv/lib/python3.7/site-packages (from pandas) (2.8.1)\n",
      "Collecting pytz>=2017.2\n",
      "  Using cached pytz-2019.3-py2.py3-none-any.whl (509 kB)\n",
      "Requirement already satisfied: numpy>=1.13.3 in /home/fracpete/development/projects/fracpete/pynb2docker/venv/lib/python3.7/site-packages (from pandas) (1.18.1)\n",
      "Requirement already satisfied: six>=1.5 in /home/fracpete/development/projects/fracpete/pynb2docker/venv/lib/python3.7/site-packages (from python-dateutil>=2.6.1->pandas) (1.14.0)\n",
      "Installing collected packages: pytz, pandas\n",
      "Successfully installed pandas-1.0.1 pytz-2019.3\n",
      "Note: you may need to restart the kernel to use updated packages.\n",
      "Requirement already satisfied: scipy in /home/fracpete/development/projects/fracpete/pynb2docker/venv/lib/python3.7/site-packages (1.4.1)\n",
      "Requirement already satisfied: numpy>=1.13.3 in /home/fracpete/development/projects/fracpete/pynb2docker/venv/lib/python3.7/site-packages (from scipy) (1.18.1)\n",
      "Note: you may need to restart the kernel to use updated packages.\n"
     ]
    }
   ],
   "source": [
    "%pip install pandas"
   ]
  },
  {
   "cell_type": "markdown",
   "metadata": {},
   "source": [
    "The following environment variables are used for determining input and output:\n",
    "\n",
    "* `INPUT` - the input file\n",
    "* `OUTPUT` - the output file\n",
    "* `VERBOSE` - whether to output some debugging information (boolean: true|false)\n",
    "\n",
    "For testing purposes, we set them to manual values if not present:"
   ]
  },
  {
   "cell_type": "code",
   "execution_count": 16,
   "metadata": {},
   "outputs": [
    {
     "name": "stdout",
     "output_type": "stream",
     "text": [
      "INPUT=/home/fracpete/development/datasets/uci/numeric/bolts.csv\n",
      "OUTPUT=/home/fracpete/temp/bolts_clean.csv\n"
     ]
    }
   ],
   "source": [
    "import os\n",
    "\n",
    "input_file = None\n",
    "output_file = None\n",
    "verbose = True\n",
    "\n",
    "if 'INPUT' in os.environ:\n",
    "    input_file = os.environ['INPUT']\n",
    "else:\n",
    "    input_file = \"/home/fracpete/development/datasets/uci/numeric/bolts.csv\"\n",
    "if 'OUTPUT' in os.environ:\n",
    "    output_file = os.environ['OUTPUT']\n",
    "else:\n",
    "    output_file = \"/home/fracpete/temp/bolts_clean.csv\"\n",
    "if 'VERBOSE' in os.environ:\n",
    "    verbose = bool(os.environ['VERBOSE'])\n",
    "if verbose:\n",
    "    print(\"INPUT=%s\" % input_file)\n",
    "    print(\"OUTPUT=%s\" % output_file)"
   ]
  },
  {
   "cell_type": "markdown",
   "metadata": {},
   "source": [
    "Load data:"
   ]
  },
  {
   "cell_type": "code",
   "execution_count": 19,
   "metadata": {},
   "outputs": [
    {
     "name": "stdout",
     "output_type": "stream",
     "text": [
      "Input data shape: (40, 8)\n"
     ]
    }
   ],
   "source": [
    "import pandas as pd\n",
    "\n",
    "data = pd.read_csv(input_file)\n",
    "if verbose:\n",
    "    print(\"Input data shape:\", data.shape)"
   ]
  },
  {
   "cell_type": "markdown",
   "metadata": {},
   "source": [
    "Select rows where SPEED1 (2nd column) is greater than 2:"
   ]
  },
  {
   "cell_type": "code",
   "execution_count": 20,
   "metadata": {},
   "outputs": [
    {
     "name": "stdout",
     "output_type": "stream",
     "text": [
      "Filtered shape: (24, 8)\n"
     ]
    }
   ],
   "source": [
    "filtered = data[data.SPEED1 > 2.0]\n",
    "if verbose:\n",
    "    print(\"Filtered shape:\", filtered.shape)"
   ]
  },
  {
   "cell_type": "markdown",
   "metadata": {},
   "source": [
    "Write output file:"
   ]
  },
  {
   "cell_type": "code",
   "execution_count": null,
   "metadata": {},
   "outputs": [],
   "source": [
    "filtered.to_csv(output_file)"
   ]
  }
 ],
 "metadata": {
  "kernelspec": {
   "display_name": "Python 3",
   "language": "python",
   "name": "python3"
  },
  "language_info": {
   "codemirror_mode": {
    "name": "ipython",
    "version": 3
   },
   "file_extension": ".py",
   "mimetype": "text/x-python",
   "name": "python",
   "nbconvert_exporter": "python",
   "pygments_lexer": "ipython3",
   "version": "3.7.5"
  }
 },
 "nbformat": 4,
 "nbformat_minor": 4
}
